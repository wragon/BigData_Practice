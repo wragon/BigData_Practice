{
 "cells": [
  {
   "cell_type": "markdown",
   "metadata": {},
   "source": [
    "## 과제1 : 숭실대 정보과학관을 중심으로 지도를 그리고, 커피빈 체인점 표시\n",
    "- 09.html 로 저장하도록"
   ]
  },
  {
   "cell_type": "code",
   "execution_count": 1,
   "metadata": {},
   "outputs": [
    {
     "name": "stdout",
     "output_type": "stream",
     "text": [
      "(126.960105254, 37.494465481)\n"
     ]
    }
   ],
   "source": [
    "import urllib\n",
    "import json\n",
    "import pandas as pd\n",
    "import webbrowser\n",
    "import folium\n",
    "\n",
    "def getGeoCode( addr) :\n",
    "    q= urllib.parse.quote(addr)\n",
    "    data = urllib.request.urlopen(\"http://api.vworld.kr/req/address?service=address&type=ROAD&request=getCoord&key=8A9450CD-0F9F-3BC1-B293-36AF3E360840&address=\" + q )\n",
    "    result = json.loads(data.read())\n",
    "    if (result['response']['status'] =='OK') :\n",
    "        x=float(result['response']['result']['point']['x'])  #경도\n",
    "        y=float(result['response']['result']['point']['y'])  #위도\n",
    "    else :\n",
    "        x,y=0,0\n",
    "    return x, y\n",
    "\n",
    "\n",
    "location = getGeoCode(\"서울특별시 동작구 사당로 50\")\n",
    "print(location)"
   ]
  },
  {
   "cell_type": "code",
   "execution_count": 2,
   "metadata": {},
   "outputs": [],
   "source": [
    "CB_file = pd.read_csv('CoffeeBean_3.csv',encoding='cp949',  engine='python')"
   ]
  },
  {
   "cell_type": "code",
   "execution_count": 3,
   "metadata": {},
   "outputs": [],
   "source": [
    "map_hw = folium.Map(location=[location[1], location[0]], zoom_start = 15)\n",
    "\n",
    "for i, store in CB_file.iterrows():   \n",
    "    folium.Marker(location=[store['y'], store['x']], popup= store['store'], icon=folium.Icon(color='red', icon='star')).add_to(map_hw)"
   ]
  },
  {
   "cell_type": "code",
   "execution_count": 4,
   "metadata": {},
   "outputs": [
    {
     "data": {
      "text/plain": [
       "True"
      ]
     },
     "execution_count": 4,
     "metadata": {},
     "output_type": "execute_result"
    }
   ],
   "source": [
    "map_hw.save('09.html')\n",
    "webbrowser.open('09.html')"
   ]
  },
  {
   "cell_type": "code",
   "execution_count": null,
   "metadata": {},
   "outputs": [],
   "source": []
  }
 ],
 "metadata": {
  "kernelspec": {
   "display_name": "Python 3",
   "language": "python",
   "name": "python3"
  },
  "language_info": {
   "codemirror_mode": {
    "name": "ipython",
    "version": 3
   },
   "file_extension": ".py",
   "mimetype": "text/x-python",
   "name": "python",
   "nbconvert_exporter": "python",
   "pygments_lexer": "ipython3",
   "version": "3.8.5"
  }
 },
 "nbformat": 4,
 "nbformat_minor": 4
}
